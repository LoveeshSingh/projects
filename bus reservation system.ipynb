from time import sleep
import os
import mysql.connector
import random
import string
import datetime

# The screen clear function
def screen_clear():
   # for mac and linux(here, os.name is 'posix')
   if os.name == 'posix':
      _ = os.system('clear')
   else:
      # for windows platfrom
      _ = os.system('cls')

#Function to display the welcome message
def welcome_page():
    print("*=*=*=*=*=*=*=*=*=*=*=*=*=*=*=*=*=*=*=*=*=*=*=*=*=*=*=*=*=*=*=*=*=*=*=*=*=*=*=*=*=*=*=*=*=*=*=*=*=*=*=*=*=*=*=*=*=*=*=*=*")
    print("                              ###############   BUS RESERVATION SYSTEM    ################")
    print("*=*=*=*=*=*=*=*=*=*=*=*=*=*=*=*=*=*=*=*=*=*=*=*=*=*=*=*=*=*=*=*=*=*=*=*=*=*=*=*=*=*=*=*=*=*=*=*=*=*=*=*=*=*=*=*=*=*=*=*=*")
    print("")
    print("")
    print("")
    print("                      *             *  ********  *         *********    **********   **       **  *******                ")
    print("                       *     *     *   *         *         **           **      **   **  * *  **  **                     ")
    print("                        *   * *   *    *****     *         **           **      **   **   *   **  *******                ")
    print("                         * *   * *     *         *         **           **      **   **       **  **                     ")
    print("                          *     *      ********  ********  *********    **********   **       **  *******                \n\n\n\n\n\n")

    sleep(3)
    screen_clear()

#Function to connect to the sql database
def connect_db():
    mydb = mysql.connector.connect(host = "localhost", user = "root", passwd = "")
    mycursor = mydb.cursor()
    mycursor.execute("USE BUS_RESERVATION_SYSTEM;")
    return mydb,mycursor

#Function to display the Login Page
def login_page():
    while True:
        print("*=*=*=*=*=*=*=*=*=*=*=*=*=*=*=*=*=*=*=*=*=*=*=*=*=*=*=*=*=*=*=*=*=*=*=*=*=*=*=*=*=*=*=*=*=*=*=*=*=*=*=*=*=*=*=*=*=*=*=*=*")
        print("*                                                                                                                       *")
        print("*                                  ###############   LOGIN    ################                                          *")
        print("*                                                                                                                       *")
        print("*=*=*=*=*=*=*=*=*=*=*=*=*=*=*=*=*=*=*=*=*=*=*=*=*=*=*=*=*=*=*=*=*=*=*=*=*=*=*=*=*=*=*=*=*=*=*=*=*=*=*=*=*=*=*=*=*=*=*=*=*")
        print("*                                                                                                                       *")
        print("*                                                                                                                       *")
        print("*                                                                                                                       *")
        print("*                                             1. User                                                                   *")
        print("*                                             2. Admin                                                                  *")
        print("*                                                                                                                       *")
        print("*                                                                                                                       *")
        print("*=*=*=*=*=*=*=*=*=*=*=*=*=*=*=*=*=*=*=*=*=*=*=*=*=*=*=*=*=*=*=*=*=*=*=*=*=*=*=*=*=*=*=*=*=*=*=*=*=*=*=*=*=*=*=*=*=*=*=*=*")
        choice= int(input("                                 Enter your Choice(1 or 2)---->"))

        if choice==1:
            login_or_signup_user()
            break

        elif choice==2:
            login_admin()
            break

        else:
            print("                                     !!!Error--Invalid Input!!! Retry ")
            sleep(2)
            screen_clear()

def login_or_signup_user():
    while True:
        screen_clear()
        print("Hello User")
        print("1. Login")
        print("2. Sign Up (for new user)")
        choice= int(input("                                 Enter your Choice(1 or 2)---->"))

        #Login
        if choice==1:
            login_user()
            break
        #Sign Up
        elif choice==2:
            signup_user()
            break
        else:
            print("                                     !!!Error--Invalid Input!!! Retry ")
            sleep(2)
            screen_clear()

def signup_user():
    screen_clear()
    print("Sign Up")
    print("")
    username= input("                                 User Name---->")
    password= input("                                 Password---->")
    name= input("                                     Name---->")
    phone= input("                                    Phone Number---->")

    mydb, mycursor = connect_db()
    sql="Insert into User values (%s,%s,%s,%s);"
    val=(username,password,name,phone,)
    mycursor.execute(sql,val)
    mydb.commit()
    print("\n\nUser Account Successfully Created!")
    print("\n\n\nWelcome ",name," .....taking you to the portal.")
    user_interface(username = username)

def login_user():
    while True:
        screen_clear()
        print("\n\n\nLogin")
        print("\n\n\n\nWelcome Back User!!")
        username= input("                                 User Name---->")
        password= input("                                 Password---->")

        mydb, mycursor = connect_db()
        mycursor.execute("Select Password from User where Username = %s",(username,))
        record = mycursor.fetchall()

        if record[0][0]==password:
            mycursor.execute("Select Name from User where Username = %s", (username,))
            record = mycursor.fetchall()
            #print welcome back 'Name of user'
            print("\n\nWelcome Back", record[0][0]," .....taking you to the portal.")
            user_interface(username = username)
            break

        else:
            choice= input("\n\nInvalid Credentials!!(Enter r for Retry and b for Back)---->")
            if choice=='r':
                screen_clear()
            else:
                screen_clear()
                login_or_signup_user()
                break

def user_interface(username):
    while True:
        screen_clear()
        print("\n\n\nHello ", username, "! What would you like to do today?")
        print("1. Update Profile")
        print("2. Create a new booking")
        print("3. Cancel a booking")
        print("4. Query Tool")
        print("5. Logout")
        print("")
        choice= int(input("\n                                 Please enter you choice(1-5)---->"))

        if choice==1:
            update_profile_user(username)
            break
        elif choice==2:
            book_a_bus(username)
            break
        elif choice==3:
            cancel_a_bus(username)
            break
        elif choice==4:
            query_tool_user(username)
            break
        elif choice==5:
            login_page()
            break
        else:
            print("\n                                     !!!Error--Invalid Input!!! Retry ")
            sleep(2)
            screen_clear()

def update_profile_user(username):
    screen_clear()
    print("\n\nYour Current Details are as follows: ")

    mydb, mycursor = connect_db()
    mycursor.execute("Select * from User where Username = %s;", (username,))
    record = mycursor.fetchall()

    print("1. Username: ", record[0][0])
    print("2. Password: ", record[0][1])
    print("3. Name: ", record[0][2])
    print("4. Phone: ", record[0][3])

    choice = input("\n\nWould you like to update it? (y to update or any other key to go back)----->")
    if choice=='y':
        print("\n\n\nPlease enter updated details")
        new_username= input("                                 Username---->")
        new_password= input("                                 Password---->")
        new_name= input("                                 Name---->")
        new_phone= input("                                 Phone---->")

        mycursor.execute("Update User Set username=%s, password=%s, name=%s, phone=%s where username=%s;",(new_username,new_password,new_name,new_phone,username,))
        mydb.commit()
        print("\n\n\nUpdation Successful!")
        sleep(2)
        user_interface(new_username)
        return

    user_interface(username)
    return

def book_a_bus(username):
    screen_clear()
    bus_no=input("\n\nEnter the bus number of the bus you want to book----->")
    seats=int(input("\nEnter the number of seats you want to book----->"))
    book_date=input("\nEnter the date of booking in (dd/mm/yyyy)----->")

    mydb, mycursor = connect_db()
    mycursor.execute("Select Seats_Available from Bus where Bus_Number = %s;",(bus_no,))
    records = mycursor.fetchall()
    av_seats=records[0][0]

    if av_seats>=seats:
        mycursor.execute("Update Bus set Seats_Available = %s where Bus_Number = %s",(av_seats-seats,bus_no,))
        sql="Insert into User_Bookings values (%s,%s,%s,%s,%s,%s);"
        booking_no=get_random_booking_id()
        bookedon=get_current_datetime()
        val=(booking_no,username,bus_no,bookedon,seats,book_date)
        mycursor.execute(sql,val)
        mydb.commit()
        print("\n\n\nBooking Confirmed! Booking Number = ",booking_no)

    else:
        print("\n\n\nNot enough Seats! Only ",av_seats," seats available!")
        sleep(2)

    user_interface(username)
    return

def get_random_booking_id():
    str=string.ascii_lowercase
    return ''.join(random.choice(str) for i in range(5))

def get_current_datetime():
    current_date = datetime.datetime.now()
    date=str(current_date.day) + "/" + str(current_date.month) + "/"+ str(current_date.year)
    return date

def cancel_a_bus(username):
    screen_clear()
    book_id=input("\n\nEnter the Booking Id of the Booking you want to cancel ----->")

    mydb, mycursor = connect_db()
    record=mycursor.execute("select Bus_Number from User_Bookings where Booking_Number = %s;",(book_id,))
    record = mycursor.fetchall()
    busno=record[0][0]
    record=mycursor.execute("select Seats_Available from Bus where Bus_Number = %s;",(busno,))
    record = mycursor.fetchall()
    seatav=record[0][0]
    record=mycursor.execute("select Seats_Booked from User_Bookings where Booking_Number = %s;",(book_id,))
    record = mycursor.fetchall()
    seattaken=record[0][0]
    mycursor.execute("Update Bus set Seats_Available = %s where Bus_Number = %s",(seatav+seattaken,busno,))
    mycursor.execute("Delete from User_Bookings where Booking_Number = %s;",(book_id,))

    mydb.commit()
    print("\n\nBooking Cancelled!")
    sleep(2)

    user_interface(username)
    return

def query_tool_user(username):
    while True:
        screen_clear()
        print("\n\n\nWhat are you looking for?")
        print("1. Bus Details")
        print("2. View Bookings")
        print("3. Go Back")
        print("")
        choice= int(input("                                 Please enter you choice(1-3)---->"))

        if choice==1:
            bus_query('user',username)
            break
        elif choice==2:
            booking_query(username)
            break
        elif choice==3:
            user_interface(username)
            break
        else:
            print("                                     !!!Error--Invalid Input!!! Retry ")
            sleep(2)
            screen_clear()

def booking_query(username):
    while True:
        screen_clear()
        print("\n\n\nWhat are you looking for?")
        print("1. All Booking Details")
        print("2. Search for a Booking")
        print("3. Go Back")
        print("")
        choice= int(input("                                 Please enter you choice(1-3)---->"))

        if choice==1:
            mydb, mycursor = connect_db()
            mycursor.execute("Select * from User_Bookings where Username = %s;",(username,))
            records = mycursor.fetchall()
            print("Booking Number | Username | Bus Number | Booked On | Seats Booked | Booking Date")
            for record in records:
                for r in record:
                   print(r, end ="\t|")
                print("")
            input("Press enter to go back")
        elif choice==2:
            while True:
                print("Search on the basis of :")
                print("1. Booking Number")
                print("2. Bus Number")
                print("3. Booked On")
                print("4. Seats Booked")
                print("5. Booking Date")
                print("6. Go Back")
                choice2= int(input("                                 Please enter you choice(1-6)---->"))

                if choice2==1:
                    book_no= input("Enter booking number of the booking you are looking for----->")
                    mydb, mycursor = connect_db()
                    mycursor.execute("Select * from User_Bookings where Booking_Number = %s and Username = %s;",(book_no, username,) )
                    records = mycursor.fetchall()
                    print("Booking Number | Username | Bus Number | Booked On | Seats Booked | Booking Date")
                    for record in records:
                        for r in record:
                          print(r,end="\t|")
                        print("")
                    input("Press any key to go back")

                elif choice2==2:
                    bus_no= input("Enter Bus Number of the booking you are looking for----->")
                    mydb, mycursor = connect_db()
                    mycursor.execute("Select * from User_Bookings where Bus_Number = %s and Username = %s;",(bus_no, username,) )
                    records = mycursor.fetchall()
                    print("Booking Number | Username | Bus Number | Booked On | Seats Booked | Booking Date")
                    for record in records:
                        for r in record:
                          print(r,end="\t|")
                        print("")
                    input("Press any key to go back")

                elif choice2==3:
                    book_on= input("Enter the date of when was the booking made of the booking you are looking for (dd/mm/yyyy)----->")
                    mydb, mycursor = connect_db()
                    mycursor.execute("Select * from User_Bookings where Booked_On = %s and Username = %s;",(book_on, username,) )
                    records = mycursor.fetchall()
                    print("Booking Number | Username | Bus Number | Booked On | Seats Booked | Booking Date")
                    for record in records:
                        for r in record:
                          print(r,end="\t|")
                        print("")
                    input("Press any key to go back")

                elif choice2==4:
                    seats_booked= input("Enter number of seats booked of the booking you are looking for----->")
                    mydb, mycursor = connect_db()
                    mycursor.execute("Select * from User_Bookings where Seats_Booked = %s and Username = %s;",(seats_booked, username,) )
                    records = mycursor.fetchall()
                    print("Booking Number | Username | Bus Number | Booked On | Seats Booked | Booking Date")
                    for record in records:
                        for r in record:
                          print(r,end="\t|")
                        print("")
                    input("Press any key to go back")

                elif choice2==5:
                    book_date= input("Enter the date for which the booking is made of the booking you are looking for (dd/mm/yyyy)----->")
                    mydb, mycursor = connect_db()
                    mycursor.execute("Select * from User_Bookings where Booking_Date = %s and Username = %s;",(book_date, username,) )
                    records = mycursor.fetchall()
                    print("Booking Number | Username | Bus Number | Booked On | Seats Booked | Booking Date")
                    for record in records:
                        for r in record:
                          print(r,end="\t|")
                        print("")
                    input("Press any key to go back")

                elif choice2==6:
                    break;

                else:
                    print("                                     !!!Error--Invalid Input!!! Retry ")
                    sleep(2)
                    screen_clear()

        elif choice==3:
            query_tool_user(username)
            break
        else:
            print("                                     !!!Error--Invalid Input!!! Retry ")
            sleep(2)
            screen_clear()

def login_admin():
    while True:
        screen_clear()
        print("\n\n\nLogin")
        print("\n\nWelcome Back Admin!")
        username= input("                                 User Name---->")
        password= input("                                 Password---->")

        mydb, mycursor = connect_db()
        mycursor.execute("Select Username, Password from Admin;")
        record = mycursor.fetchall()

        if record[0][0]==username and record[0][1]==password:
            mycursor.execute("Select Name from Admin;")
            record2 = mycursor.fetchall()
            #print welcome back 'Name of Admin'
            print("\n\nWelcome Back ", record2[0][0]," .....taking you to the portal.")
            admin_interface(username = record[0][0])
            break

        else:
            choice= input("\n\n\nInvalid Credentials!!(Enter r for Retry and b for Back)---->")
            if choice=='r':
                screen_clear()
            else:
                screen_clear()
                login_page()
                break

def admin_interface(username):
    while True:
        screen_clear()
        print("\n\n\nHello ", username, "! What would you like to do today?")
        print("1. Update Profile")
        print("2. Update Bus Details")
        print("3. Query Tool")
        print("4. Logout")
        print("")
        choice= int(input("                                 Please enter you choice(1-4)---->"))

        if choice==1:
            update_profile_admin(username)
            break
        elif choice==2:
            update_bus_details(username)
            break
        elif choice==3:
            query_tool_admin(username)
            break
        elif choice==4:
            login_page()
            break
        else:
            print("                                     !!!Error--Invalid Input!!! Retry ")
            sleep(2)
            screen_clear()

def update_profile_admin(username):
    screen_clear()
    print("\n\n\nYour Current Details are as follows: ")

    mydb, mycursor = connect_db()
    mycursor.execute("Select * from Admin where Username = %s;", (username,))
    record = mycursor.fetchall()

    print("1. Username: ", record[0][0])
    print("2. Password: ", record[0][1])
    print("3. Name: ", record[0][2])
    print("4. Phone: ", record[0][3])

    choice = input("\n\n\nWould you like to update it? (y to update or any other key to go back)----->")
    if choice=='y':
        print("Please enter updated details")
        new_username= input("                                 Username---->")
        new_password= input("                                 Password---->")
        new_name= input("                                 Name---->")
        new_phone= input("                                 Phone---->")

        mycursor.execute("Update Admin Set username=%s, password=%s, name=%s, phone=%s where username=%s;",(new_username,new_password,new_name,new_phone,username,))
        mydb.commit()
        print("\n\n\nUpdation Successful!")
        sleep(2)
        admin_interface(new_username)
        return
    admin_interface(username)
    return

def update_bus_details(username):
    screen_clear()
    bus_id= input("                                 Please enter bus number to update---->")

    print("\n\n\nCurrent Details for the Bus is as follows: ")
    mydb, mycursor = connect_db()
    mycursor.execute("Select * from Bus where Bus_Number = %s;", (bus_id,))
    record = mycursor.fetchall()

    print("1. Bus Number: ", record[0][0])
    print("2. Driver Name: ", record[0][1])
    print("3. Contact of Driver: ", record[0][2])
    print("4. Starting Station of Bus: ", record[0][3])
    print("5. Destination of Bus: ", record[0][4])
    print("6. Currently Available Seats: ", record[0][5])
    print("7. Ticket Price: ", record[0][6])
    print("8. Estimated Time of Journey: ", record[0][7], " hrs")
    print("9. Facilities: ", record[0][8])

    choice = input("\n\nWould you like to update it? (y to update or any other key to go back)----->")
    if choice=='y':
        print("\n\nPlease enter updated details")
        new_bus_number= input("                                 Bus_Number---->")
        new_driver_name= input("                                Driver Name---->")
        new_driver_phone= input("                               Driver Phone Number---->")
        new_starting_point= input("                             Starting Staition of Bus---->")
        new_destination= input("                                Destination of Bus---->")
        new_available_seats= input("                            Currently Available Seats---->")
        new_ticket_price= input("                               Ticket Price---->")
        new_Estimated_time= input("                             Estimated Time of Journey---->")
        new_facilities= input("                                 Facilites---->")

        mycursor.execute("Update Bus Set Bus_Number=%s, Driver_Name=%s, Driver_Phone=%s, Bus_Start=%s, Bus_End=%s, Seats_Available=%s, Ticket_Price=%s, Travel_Time=%s, Facilities=%s where Bus_Number=%s;"
        ,(new_bus_number,new_driver_name,new_driver_phone,new_starting_point,new_destination,new_available_seats,new_ticket_price,new_Estimated_time,new_facilities,bus_id,))
        mydb.commit()
        print("\n\nUpdation Successful!")
        sleep(2)
    admin_interface(username)
    return

def query_tool_admin(username):
    while True:
        screen_clear()
        print("\n\n\nWhat are you looking for?")
        print("1. Bus Details")
        print("2. Customer Details")
        print("3. Go Back")
        print("")
        choice= int(input("                                 Please enter you choice(1-3)---->"))

        if choice==1:
            bus_query('admin',username)
            break
        elif choice==2:
            customer_query(username)
            break
        elif choice==3:
            admin_interface(username)
            break
        else:
            print("                                     !!!Error--Invalid Input!!! Retry ")
            sleep(2)
            screen_clear()

def bus_query(user,username):
    while True:
        screen_clear()
        print("\n\n\nWhat are you looking for?")
        print("1. All Bus Details")
        print("2. Search for Bus")
        print("3. Go Back")
        print("")
        choice= int(input("                                 Please enter you choice(1-3)---->"))

        if choice==1:
            mydb, mycursor = connect_db()
            mycursor.execute("Select * from Bus;")
            records = mycursor.fetchall()
            print("Bus Number | Bus Driver | Driver Contact | From | To | Available Seats | Ticket Price | Estimated Travel Time | Facilities")
            for record in records:
                for r in record:
                          print(r,end="\t|")
                print("")

            input("\n\nPress any key to go back")
        elif choice==2:
            while True:
                print("\n\nSearch on the basis of :")
                print("1. Bus Number")
                print("2. Driver Name")
                print("3. Contact of Driver ")
                print("4. Starting Station of Bus")
                print("5. Destination of Bus ")
                print("6. Currently Available Seats ")
                print("7. Ticket Price ")
                print("8. Estimated Time of Journey ")
                print("9. Facilities ")
                print("10. Go Back")
                print("")
                choice2= int(input("                                 Please enter you choice(1-10)---->"))

                if choice2==1:
                    bus_no= input("Enter bus number of the bus you are looking for----->")
                    mydb, mycursor = connect_db()
                    mycursor.execute("Select * from Bus where Bus_Number = %s;", (bus_no,))
                    records = mycursor.fetchall()
                    print("Bus Number | Bus Driver | Driver Contact | From | To | Available Seats | Ticket Price | Estimated Travel Time | Facilities")
                    for record in records:
                        for r in record:
                          print(r,end="\t|")
                        print("")
                    input("Press any key to go back")

                elif choice2==2:
                    driver_name= input("Enter driver name of the bus you are looking for----->")
                    mydb, mycursor = connect_db()
                    mycursor.execute("Select * from Bus where Driver_Name = %s;", (driver_name,))
                    records = mycursor.fetchall()
                    print("Bus Number | Bus Driver | Driver Contact | From | To | Available Seats | Ticket Price | Estimated Travel Time | Facilities")
                    for record in records:
                        for r in record:
                          print(r,end="\t|")
                        print("")
                    input("Press any key to go back")

                elif choice2==3:
                    driver_phone= input("Enter driver phone of the bus you are looking for----->")
                    mydb, mycursor = connect_db()
                    mycursor.execute("Select * from Bus where Driver_Phone = %s;", (driver_phone,))
                    records = mycursor.fetchall()
                    print("Bus Number | Bus Driver | Driver Contact | From | To | Available Seats | Ticket Price | Estimated Travel Time | Facilities")
                    for record in records:
                        for r in record:
                          print(r,end="\t|")
                        print("")
                    input("Press any key to go back")


                if choice2==4:
                    bus_start= input("Enter starting point of the bus you are looking for----->")
                    mydb, mycursor = connect_db()
                    mycursor.execute("Select * from Bus where Bus_Start = %s;", (bus_start,))
                    records = mycursor.fetchall()
                    print("Bus Number | Bus Driver | Driver Contact | From | To | Available Seats | Ticket Price | Estimated Travel Time | Facilities")
                    for record in records:
                        for r in record:
                          print(r,end="\t|")
                        print("")
                    input("Press any key to go back")

                elif choice2==5:
                    bus_end= input("Enter destination of the bus you are looking for----->")
                    mydb, mycursor = connect_db()
                    mycursor.execute("Select * from Bus where Bus_End = %s;", (bus_end,))
                    records = mycursor.fetchall()
                    print("Bus Number | Bus Driver | Driver Contact | From | To | Available Seats | Ticket Price | Estimated Travel Time | Facilities")
                    for record in records:
                        for r in record:
                          print(r,end="\t|")
                        print("")
                    input("Press any key to go back")

                elif choice2==6:
                    seats_av= input("Enter Number of seats of the bus you are looking for----->")
                    mydb, mycursor = connect_db()
                    mycursor.execute("Select * from Bus where Seats_Available >= %s;", (seats_av,))
                    records = mycursor.fetchall()
                    print("Bus Number | Bus Driver | Driver Contact | From | To | Available Seats | Ticket Price | Estimated Travel Time | Facilities")
                    for record in records:
                        for r in record:
                          print(r,end="\t|")
                        print("")
                    input("Press any key to go back")

                if choice2==7:
                    tick_price= input("Enter Maximum Price of the bus you are looking for----->")
                    mydb, mycursor = connect_db()
                    mycursor.execute("Select * from Bus where Ticket_Price <= %s;", (tick_price,))
                    records = mycursor.fetchall()
                    print("Bus Number | Bus Driver | Driver Contact | From | To | Available Seats | Ticket Price | Estimated Travel Time | Facilities")
                    for record in records:
                        for r in record:
                          print(r,end="\t|")
                        print("")
                    input("Press any key to go back")

                elif choice2==8:
                    travel_time= input("Enter Estimated Travel time of the bus you are looking for----->")
                    mydb, mycursor = connect_db()
                    mycursor.execute("Select * from Bus where Travel_Time = %s;", (travel_time,))
                    records = mycursor.fetchall()
                    print("Bus Number | Bus Driver | Driver Contact | From | To | Available Seats | Ticket Price | Estimated Travel Time | Facilities")
                    for record in records:
                        for r in record:
                          print(r,end="\t|")
                        print("")
                    input("Press any key to go back")

                elif choice2==9:
                    facility= input("Enter Facilities of the bus you are looking for----->")
                    mydb, mycursor = connect_db()
                    mycursor.execute("Select * from Bus where Facilities = %s;", (facility,))
                    records = mycursor.fetchall()
                    print("Bus Number | Bus Driver | Driver Contact | From | To | Available Seats | Ticket Price | Estimated Travel Time | Facilities")
                    for record in records:
                        for r in record:
                          print(r,end="\t|")
                        print("")
                    input("Press any key to go back")

                elif choice2==10:
                    break;

                else:
                    print("                                     !!!Error--Invalid Input!!! Retry ")
                    sleep(2)
                    screen_clear()

        elif choice==3:
            if user=='admin':
                query_tool_admin(username)
            else:
                query_tool_user(username)
            break
        else:
            print("                                     !!!Error--Invalid Input!!! Retry ")
            sleep(2)
            screen_clear()

def customer_query(username):
    while True:
        screen_clear()
        print("What are you looking for?")
        print("1. All Customer Details")
        print("2. Search for Customer")
        print("3. Go Back")
        print("")
        choice= int(input("                                 Please enter you choice(1-3)---->"))

        if choice==1:
            mydb, mycursor = connect_db()
            mycursor.execute("Select Name, Phone from User;")
            records = mycursor.fetchall()
            print("Customer Name | Customer Contact")
            for record in records:
                for r in record:
                          print(r,end="\t|")
                print("")

            input("Press any key to go back")
        elif choice==2:
            while True:
                print("Search on the basis of :")
                print("1. Customer Name")
                print("2. Customer Phone Number")
                print("3. Go Back")
                print("")
                choice2= int(input("                                 Please enter you choice(1-3)---->"))

                if choice2==1:
                    cust_name= input("Enter customer name of the customer you are looking for")
                    mydb, mycursor = connect_db()
                    mycursor.execute("Select Name, Phone from User where name = %s;",(cust_name,) )
                    records = mycursor.fetchall()
                    print("Customer Name | Customer Contact")
                    for record in records:
                        for r in record:
                          print(r,end="\t|")
                        print("")
                    input("Press any key to go back")

                elif choice2==2:
                    phn_no= input("Enter phone number of the customer you are looking for")
                    mydb, mycursor = connect_db()
                    mycursor.execute("Select Name, Phone from User where Phone = %s;",(phn_no,) )
                    records = mycursor.fetchall()
                    print("Customer Name | Customer Contact")
                    for record in records:
                        for r in record:
                          print(r,end="\t|")
                        print("")
                    input("Press any key to go back")

                elif choice2==3:
                    break;

                else:
                    print("                                     !!!Error--Invalid Input!!! Retry ")
                    sleep(2)
                    screen_clear()

        elif choice==3:
            query_tool_admin(username)
            break
        else:
            print("                                     !!!Error--Invalid Input!!! Retry ")
            sleep(2)
            screen_clear()

if __name__== "__main__":
    welcome_page()
    login_page()
